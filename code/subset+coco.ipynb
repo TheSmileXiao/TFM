{
  "cells": [
    {
      "cell_type": "markdown",
      "source": [
        "# Make subset_video_High_quality dataset"
      ],
      "metadata": {
        "id": "nBcP4CBlnuTB"
      }
    },
    {
      "cell_type": "code",
      "execution_count": null,
      "metadata": {
        "id": "ShOjQtYIntny",
        "outputId": "6a382cfb-fb0c-4c51-bcd9-77248e7b3334"
      },
      "outputs": [
        {
          "name": "stdout",
          "output_type": "stream",
          "text": [
            "Finished cleaning up files.\n"
          ]
        }
      ],
      "source": [
        "import os\n",
        "\n",
        "# Lista de prefijos permitidos\n",
        "high_quality_array = [\n",
        "    'Aug_8', 'Aug_5','Aug_2',\n",
        "    'Jun_1', 'Jun_3', 'Jun4',\n",
        "    'Manolo_1', 'Manolo_2', 'Manolo_3',\n",
        "    'Sep_1', 'Sep_3', 'Sep4',\n",
        "    'Otras_1', 'Otras_2',\n",
        "    'Lobo_4','Lobo_8','Lobo_9','Lobo_12'\n",
        "]\n",
        "\n",
        "# Recorrer el directorio actual y eliminar archivos no deseados\n",
        "for root, dirs, files in os.walk('.', topdown=True):\n",
        "    for file in files:\n",
        "        if not file.startswith(tuple(high_quality_array)) and file.endswith(('.txt', '.jpg')):\n",
        "            file_path = os.path.join(root, file)\n",
        "            print(f\"Removing file: {file_path}\")\n",
        "            os.remove(file_path)  # Eliminar el archivo\n",
        "\n",
        "print(\"Finished cleaning up files.\")"
      ]
    },
    {
      "cell_type": "code",
      "execution_count": null,
      "metadata": {
        "id": "MiFs_vm-ntn1",
        "outputId": "58bd7eb1-5d7c-4730-e857-a0854b9818eb"
      },
      "outputs": [
        {
          "name": "stdout",
          "output_type": "stream",
          "text": [
            "Finished moving files.\n"
          ]
        }
      ],
      "source": [
        "import os\n",
        "import shutil\n",
        "\n",
        "# ordenar los archivos\n",
        "train = [\n",
        "         'Aug_2','Aug_5',\n",
        "         'Jun_1', 'Jun_3',\n",
        "         'Manolo_1',\n",
        "         'Sep_1', 'Sep_3',\n",
        "         'Otras_1',\n",
        "         'Lobo_4','Lobo_8',\n",
        "         ]\n",
        "\n",
        "val = ['Aug_8', 'Jun4', 'Manolo_2', 'Manolo_3', 'Sep4', 'Otras_2', 'Lobo_9', 'Lobo_12']\n",
        "\n",
        "# Recorrer el directorio actual y eliminar archivos no deseados\n",
        "for root, dirs, files in os.walk('.', topdown=True):\n",
        "    for file in files:\n",
        "        if file.endswith(('.jpg','txt')):\n",
        "            file_path = os.path.join(root, file)\n",
        "            if file.startswith(tuple(train)):\n",
        "                shutil.move(file_path, file_path.replace('\\\\val\\\\', '\\\\train\\\\'))\n",
        "            if file.startswith(tuple(val)):\n",
        "                shutil.move(file_path, file_path.replace('\\\\train\\\\', '\\\\val\\\\'))\n",
        "\n",
        "print(\"Finished moving files.\")"
      ]
    }
  ],
  "metadata": {
    "kernelspec": {
      "display_name": "pre",
      "language": "python",
      "name": "python3"
    },
    "language_info": {
      "codemirror_mode": {
        "name": "ipython",
        "version": 3
      },
      "file_extension": ".py",
      "mimetype": "text/x-python",
      "name": "python",
      "nbconvert_exporter": "python",
      "pygments_lexer": "ipython3",
      "version": "3.10.14"
    },
    "colab": {
      "provenance": []
    }
  },
  "nbformat": 4,
  "nbformat_minor": 0
}