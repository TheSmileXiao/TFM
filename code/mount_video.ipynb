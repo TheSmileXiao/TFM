{
 "cells": [
  {
   "cell_type": "code",
   "execution_count": 9,
   "metadata": {},
   "outputs": [],
   "source": [
    "import json\n",
    "import cv2\n",
    "import numpy as np\n",
    "import os\n",
    "\n",
    "# Mapa de colores en BGR para las clases\n",
    "label_colors = {\n",
    "    \"sheep\": (255, 0, 0),   # Rojo\n",
    "    \"wolf\": (0, 255, 0),  # Verde\n",
    "    \"person\": (0, 0, 255),  # Azul\n",
    "    \"dog\": (255, 255, 0),# Cian\n",
    "}\n"
   ]
  },
  {
   "cell_type": "code",
   "execution_count": 11,
   "metadata": {},
   "outputs": [],
   "source": [
    "def build_video(dir, video_path):\n",
    "  # Rutas de los directorios\n",
    "  image_dir = dir\n",
    "  json_dir = dir\n",
    "  output_dir = os.path.join(dir, 'video_labels')\n",
    "\n",
    "  # Asegúrate de que el directorio de salida existe\n",
    "  if not os.path.exists(output_dir):\n",
    "      os.makedirs(output_dir)\n",
    "\n",
    "  # Listar todos los archivos JSON\n",
    "  json_files = [f for f in os.listdir(json_dir) if f.endswith('.json')]\n",
    "\n",
    "  for json_file in json_files:\n",
    "      with open(os.path.join(json_dir, json_file), 'r') as f:\n",
    "          data = json.load(f)\n",
    "      \n",
    "      # Cargar la imagen correspondiente\n",
    "      image_path = os.path.join(image_dir, data['imagePath'])\n",
    "      image = cv2.imread(image_path)\n",
    "      \n",
    "      # Procesar cada forma (anotación)\n",
    "      for shape in data['shapes']:\n",
    "          label = shape['label']\n",
    "          points = np.array(shape['points'], np.int32)\n",
    "          color = label_colors.get(label, (255, 255, 255))  # Color blanco por defecto\n",
    "          \n",
    "          # Dibujar el polígono\n",
    "          cv2.polylines(image, [points], isClosed=True, color=color, thickness=2)\n",
    "      \n",
    "      # Guardar la imagen modificada\n",
    "      output_image_path = os.path.join(output_dir, os.path.basename(image_path))\n",
    "      cv2.imwrite(output_image_path, image)\n",
    "  \n",
    "  ## Generate video\n",
    "  video_codec = cv2.VideoWriter_fourcc(*'mp4v')  # Codec para el vídeo\n",
    "  video_fps = 30  # FPS del vídeo\n",
    "  images = [os.path.join(output_dir, img) for img in sorted(os.listdir(output_dir)) if img.endswith(\".jpg\")]\n",
    "\n",
    "  # Asumiendo que todas las imágenes tienen el mismo tamaño\n",
    "  frame = cv2.imread(images[0])\n",
    "  height, width, layers = frame.shape\n",
    "  video = cv2.VideoWriter(video_path, video_codec, video_fps, (width, height))\n",
    "\n",
    "  for image in images:\n",
    "      video.write(cv2.imread(image))\n",
    "\n",
    "  video.release()\n"
   ]
  },
  {
   "cell_type": "code",
   "execution_count": 39,
   "metadata": {},
   "outputs": [],
   "source": [
    "list_dir = ['Manolo/1,2,4_correct', 'Manolo/3_correct', 'Otras/otras_correct', 'Septiembre/1-3_correct', 'Septiembre/4_correct', 'Septiembre/5_correct']\n",
    "list_video_path = ['videos/Manolo_1,2,4.mp4', 'videos/Manolo_3.mp4', 'videos/otras.mp4', 'videos/Septiembre_1-3.mp4', 'videos/Septiembre_4.mp4', 'videos/Septiembre_5.mp4', 'videos/Septiembre']\n",
    "for dir, video_path in zip(list_dir, list_video_path):\n",
    "  build_video(dir, video_path)"
   ]
  },
  {
   "cell_type": "code",
   "execution_count": 12,
   "metadata": {},
   "outputs": [],
   "source": [
    "build_video('Agosto/1-3_6-10_correct', 'videos/Agosto_1-3_6-10.mp4')"
   ]
  }
 ],
 "metadata": {
  "kernelspec": {
   "display_name": "pre",
   "language": "python",
   "name": "python3"
  },
  "language_info": {
   "codemirror_mode": {
    "name": "ipython",
    "version": 3
   },
   "file_extension": ".py",
   "mimetype": "text/x-python",
   "name": "python",
   "nbconvert_exporter": "python",
   "pygments_lexer": "ipython3",
   "version": "3.9.18"
  }
 },
 "nbformat": 4,
 "nbformat_minor": 2
}
