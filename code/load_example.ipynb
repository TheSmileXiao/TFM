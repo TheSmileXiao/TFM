{
  "cells": [
    {
      "cell_type": "markdown",
      "metadata": {
        "id": "view-in-github",
        "colab_type": "text"
      },
      "source": [
        "<a href=\"https://colab.research.google.com/github/TheSmileXiao/TFM/blob/main/code/load_example.ipynb\" target=\"_parent\"><img src=\"https://colab.research.google.com/assets/colab-badge.svg\" alt=\"Open In Colab\"/></a>"
      ]
    },
    {
      "cell_type": "markdown",
      "source": [
        "## Install packages and import"
      ],
      "metadata": {
        "id": "RZuaWBlKR6cS"
      }
    },
    {
      "cell_type": "code",
      "execution_count": null,
      "metadata": {
        "id": "RbBTFWa790xh"
      },
      "outputs": [],
      "source": [
        "!pip install ultralytics"
      ]
    },
    {
      "cell_type": "code",
      "execution_count": null,
      "metadata": {
        "id": "dDakO0lK97aI"
      },
      "outputs": [],
      "source": [
        "import zipfile\n",
        "import os\n",
        "import shutil\n",
        "from ultralytics          import YOLO\n",
        "from google.colab         import drive\n",
        "import random\n",
        "import tqdm"
      ]
    },
    {
      "cell_type": "code",
      "execution_count": null,
      "metadata": {
        "colab": {
          "base_uri": "https://localhost:8080/"
        },
        "id": "pY5ZYHBx99MW",
        "outputId": "efca0ee5-a50c-49c1-9c6a-7a0b2ed84bfc"
      },
      "outputs": [
        {
          "output_type": "stream",
          "name": "stdout",
          "text": [
            "Mounted at /content/drive/\n"
          ]
        }
      ],
      "source": [
        "drive.mount('/content/drive/')"
      ]
    },
    {
      "cell_type": "markdown",
      "metadata": {
        "id": "8IYmdCgiWTpw"
      },
      "source": [
        "## Build YOLO_DATASET + COCO (with all images randomly distributed)"
      ]
    },
    {
      "cell_type": "code",
      "execution_count": null,
      "metadata": {
        "id": "T8o2nBYZ9-9m"
      },
      "outputs": [],
      "source": [
        "ruta_archivo_zip = '/content/drive/MyDrive/TFM_Xiao/Anotaciones/yolo_dataset.zip' ## Dataset path\n",
        "ruta_destino = './'\n",
        "with zipfile.ZipFile(ruta_archivo_zip, 'r') as archivo_zip:\n",
        "    # Extraer el archivo deseado en la ruta de destino\n",
        "    archivo_zip.extractall(ruta_destino)"
      ]
    },
    {
      "cell_type": "code",
      "execution_count": null,
      "metadata": {
        "id": "uOAXZ7eORvkW"
      },
      "outputs": [],
      "source": [
        "ruta_archivo_zip = '/content/drive/MyDrive/TFM_Xiao/Anotaciones/coco-seg_5000samples.zip'  ## COCO Dataset path\n",
        "ruta_destino = './'\n",
        "with zipfile.ZipFile(ruta_archivo_zip, 'r') as archivo_zip:\n",
        "    # Extraer el archivo deseado en la ruta de destino\n",
        "    archivo_zip.extractall(ruta_destino)"
      ]
    },
    {
      "cell_type": "code",
      "execution_count": null,
      "metadata": {
        "colab": {
          "base_uri": "https://localhost:8080/"
        },
        "id": "AWnAa5voScJV",
        "outputId": "05dc88a6-d3e1-47d1-a10e-3895e37a121e"
      },
      "outputs": [
        {
          "name": "stdout",
          "output_type": "stream",
          "text": [
            "3500 images have been move.\n",
            "1000 images have been move.\n",
            "500 images have been move.\n"
          ]
        }
      ],
      "source": [
        "img_dir = '/content/coco-images'\n",
        "labels_dir = '/content/coco_annotation'\n",
        "dst_dir = '/content/yolo_dataset'\n",
        "def add_coco_dataset(img_dir, labels_dir, dst_dir, train_size=0.7, val_size=0.2, test_size=0.1):  ## Merge COCO Dataset into.\n",
        "  random.seed(42)\n",
        "  imgs = os.listdir(img_dir)\n",
        "  random.shuffle(imgs)\n",
        "  length = len(imgs)\n",
        "\n",
        "  train_end = int(train_size * length)\n",
        "  val_end = train_end + int(val_size * length)\n",
        "\n",
        "  train_imgs = imgs[:train_end]\n",
        "  val_imgs = imgs[train_end:val_end]\n",
        "  test_imgs = imgs[val_end:]\n",
        "\n",
        "  for img in [img for img in train_imgs if img.endswith('.jpg')]:\n",
        "    shutil.copy(os.path.join(img_dir, img), os.path.join(dst_dir, 'images/train'))\n",
        "    shutil.copy(os.path.join(labels_dir, f\"{img.split('.')[0]}.txt\"), os.path.join(dst_dir, 'labels/train'))\n",
        "  print(f'{train_end} images have been move.')\n",
        "  for img in [img for img in val_imgs if img.endswith('.jpg')]:\n",
        "    shutil.copy(os.path.join(img_dir, img), os.path.join(dst_dir, 'images/val'))\n",
        "    shutil.copy(os.path.join(labels_dir, f\"{img.split('.')[0]}.txt\"), os.path.join(dst_dir, 'labels/val'))\n",
        "  print(f'{val_end-train_end} images have been move.')\n",
        "  for img in [img for img in test_imgs if img.endswith('.jpg')]:\n",
        "    shutil.copy(os.path.join(img_dir, img), os.path.join(dst_dir, 'images/test'))\n",
        "    shutil.copy(os.path.join(labels_dir, f\"{img.split('.')[0]}.txt\"), os.path.join(dst_dir, 'labels/test'))\n",
        "  print(f'{length-val_end} images have been move.')\n",
        "\n",
        "add_coco_dataset(img_dir, labels_dir, dst_dir)"
      ]
    },
    {
      "cell_type": "markdown",
      "metadata": {
        "id": "KGO8M2M0WnYo"
      },
      "source": [
        "## Build YOLO_DATASET + COCO (the images are distributed by videos)"
      ]
    },
    {
      "cell_type": "code",
      "execution_count": null,
      "metadata": {
        "id": "77VKMri3WnYo"
      },
      "outputs": [],
      "source": [
        "ruta_archivo_zip = '/content/drive/MyDrive/TFM_Xiao/Anotaciones/video_yolo_dataset.zip'\n",
        "ruta_destino = './'\n",
        "with zipfile.ZipFile(ruta_archivo_zip, 'r') as archivo_zip:\n",
        "    # Extraer el archivo deseado en la ruta de destino\n",
        "    archivo_zip.extractall(ruta_destino)"
      ]
    },
    {
      "cell_type": "code",
      "execution_count": null,
      "metadata": {
        "id": "sv_N1P2pWnYo"
      },
      "outputs": [],
      "source": [
        "ruta_archivo_zip = '/content/drive/MyDrive/TFM_Xiao/Anotaciones/coco-seg_5000samples.zip'\n",
        "ruta_destino = './'\n",
        "with zipfile.ZipFile(ruta_archivo_zip, 'r') as archivo_zip:\n",
        "    # Extraer el archivo deseado en la ruta de destino\n",
        "    archivo_zip.extractall(ruta_destino)"
      ]
    },
    {
      "cell_type": "code",
      "execution_count": null,
      "metadata": {
        "id": "8KmhSDK9WnYo"
      },
      "outputs": [],
      "source": [
        "img_dir = '/content/coco-images'\n",
        "labels_dir = '/content/coco_annotation'\n",
        "dst_dir = '/content/yolo_dataset'\n",
        "def add_coco_dataset(img_dir, labels_dir, dst_dir, train_size=0.8, val_size=0.2, test_size=0):\n",
        "  random.seed(42)\n",
        "  imgs = os.listdir(img_dir)\n",
        "  random.shuffle(imgs)\n",
        "  length = len(imgs)\n",
        "\n",
        "  train_end = int(train_size * length)\n",
        "  val_end = train_end + int(val_size * length)\n",
        "\n",
        "  train_imgs = imgs[:train_end]\n",
        "  val_imgs = imgs[train_end:val_end]\n",
        "  test_imgs = imgs[val_end:]\n",
        "\n",
        "  for img in [img for img in train_imgs if img.endswith('.jpg')]:\n",
        "    shutil.copy(os.path.join(img_dir, img), os.path.join(dst_dir, 'images/train'))\n",
        "    shutil.copy(os.path.join(labels_dir, f\"{img.split('.')[0]}.txt\"), os.path.join(dst_dir, 'labels/train'))\n",
        "  print(f'{train_end} images have been move.')\n",
        "  for img in [img for img in val_imgs if img.endswith('.jpg')]:\n",
        "    shutil.copy(os.path.join(img_dir, img), os.path.join(dst_dir, 'images/val'))\n",
        "    shutil.copy(os.path.join(labels_dir, f\"{img.split('.')[0]}.txt\"), os.path.join(dst_dir, 'labels/val'))\n",
        "  print(f'{val_end-train_end} images have been move.')\n",
        "  for img in [img for img in test_imgs if img.endswith('.jpg')]:\n",
        "    shutil.copy(os.path.join(img_dir, img), os.path.join(dst_dir, 'images/test'))\n",
        "    shutil.copy(os.path.join(labels_dir, f\"{img.split('.')[0]}.txt\"), os.path.join(dst_dir, 'labels/test'))\n",
        "  print(f'{length-val_end} images have been move.')\n",
        "\n",
        "add_coco_dataset(img_dir, labels_dir, dst_dir)"
      ]
    },
    {
      "cell_type": "markdown",
      "source": [
        "## Model (Fine tuning and train)"
      ],
      "metadata": {
        "id": "nALpDIwSTXtE"
      }
    },
    {
      "cell_type": "code",
      "execution_count": null,
      "metadata": {
        "colab": {
          "base_uri": "https://localhost:8080/"
        },
        "id": "U-P6WrdCWnYp",
        "outputId": "9e8d3dbc-f9b7-447f-b066-5a4fb6f62316"
      },
      "outputs": [
        {
          "name": "stdout",
          "output_type": "stream",
          "text": [
            "Downloading https://github.com/ultralytics/assets/releases/download/v8.2.0/yolov9c-seg.pt to 'yolov9c-seg.pt'...\n"
          ]
        },
        {
          "name": "stderr",
          "output_type": "stream",
          "text": [
            "100%|██████████| 53.9M/53.9M [00:00<00:00, 73.7MB/s]"
          ]
        },
        {
          "name": "stdout",
          "output_type": "stream",
          "text": [
            "WARNING ⚠️ yolov9c-seg.pt appears to require 'dill', which is not in ultralytics requirements.\n",
            "AutoInstall will run now for 'dill' but this feature will be removed in the future.\n",
            "Recommend fixes are to train a new model using the latest 'ultralytics' package or to run a command with an official YOLOv8 model, i.e. 'yolo predict model=yolov8n.pt'\n",
            "\u001b[31m\u001b[1mrequirements:\u001b[0m Ultralytics requirement ['dill'] not found, attempting AutoUpdate...\n"
          ]
        },
        {
          "name": "stderr",
          "output_type": "stream",
          "text": [
            "\n"
          ]
        },
        {
          "name": "stdout",
          "output_type": "stream",
          "text": [
            "Collecting dill\n",
            "  Downloading dill-0.3.8-py3-none-any.whl (116 kB)\n",
            "     ━━━━━━━━━━━━━━━━━━━━━━━━━━━━━━━━━━━━━━━━ 116.3/116.3 kB 3.4 MB/s eta 0:00:00\n",
            "Installing collected packages: dill\n",
            "Successfully installed dill-0.3.8\n",
            "\n",
            "\u001b[31m\u001b[1mrequirements:\u001b[0m AutoUpdate success ✅ 5.7s, installed 1 package: ['dill']\n",
            "\u001b[31m\u001b[1mrequirements:\u001b[0m ⚠️ \u001b[1mRestart runtime or rerun command for updates to take effect\u001b[0m\n",
            "\n",
            "YOLOv9c-seg summary: 654 layers, 27897120 parameters, 0 gradients, 159.4 GFLOPs\n"
          ]
        },
        {
          "data": {
            "text/plain": [
              "(654, 27897120, 0, 159.41411839999998)"
            ]
          },
          "execution_count": 7,
          "metadata": {},
          "output_type": "execute_result"
        }
      ],
      "source": [
        "# Load a model\n",
        "model = YOLO('yolov9c-seg.yaml')  # build a new model from YAML\n",
        "model = YOLO('yolov9c-seg.pt')  # load a pretrained model (recommended for training)\n",
        "model.info()"
      ]
    },
    {
      "cell_type": "markdown",
      "source": [
        "### Train model, the yaml file was included in the dataset"
      ],
      "metadata": {
        "id": "1Y6YVCvNUXqZ"
      }
    },
    {
      "cell_type": "code",
      "execution_count": null,
      "metadata": {
        "colab": {
          "background_save": true
        },
        "id": "z7ySHa3mWnYp"
      },
      "outputs": [],
      "source": [
        "model.train(data='/content/yolo_dataset/dataset.yaml', epochs=50, patience=10, imgsz=640, freeze=10, verbose=True, batch=-1, exist_ok=True,\n",
        "      project='/content/drive/MyDrive/TFM_Xiao/Code/YOLO/save_models', name='yolo_v9_video_coco/segment')"
      ]
    },
    {
      "cell_type": "markdown",
      "source": [
        "### Load model retrained"
      ],
      "metadata": {
        "id": "OUpbB7jIT77h"
      }
    },
    {
      "cell_type": "code",
      "execution_count": null,
      "metadata": {
        "id": "InJQ75y4nShJ"
      },
      "outputs": [],
      "source": [
        "# model = YOLO('/content/drive/MyDrive/TFM_Xiao/Code/YOLO/save_models/yolo_v9_video_coco/segment/weights/best.pt')"
      ]
    },
    {
      "cell_type": "markdown",
      "source": [
        "## Resume train"
      ],
      "metadata": {
        "id": "9ax7IOaBUAKI"
      }
    },
    {
      "cell_type": "code",
      "execution_count": null,
      "metadata": {
        "colab": {
          "background_save": true
        },
        "id": "uxCeVbkTnpdK"
      },
      "outputs": [],
      "source": [
        "#model.train(resume=True)"
      ]
    },
    {
      "cell_type": "markdown",
      "source": [
        "## Save all files in Google Drive"
      ],
      "metadata": {
        "id": "dPSnvwxWTpI_"
      }
    },
    {
      "cell_type": "code",
      "execution_count": null,
      "metadata": {
        "colab": {
          "background_save": true
        },
        "id": "1mPKzlVQWnYq"
      },
      "outputs": [],
      "source": [
        "drive.flush_and_unmount()"
      ]
    }
  ],
  "metadata": {
    "accelerator": "GPU",
    "colab": {
      "gpuType": "T4",
      "machine_shape": "hm",
      "provenance": [],
      "include_colab_link": true
    },
    "kernelspec": {
      "display_name": "Python 3",
      "name": "python3"
    },
    "language_info": {
      "name": "python"
    }
  },
  "nbformat": 4,
  "nbformat_minor": 0
}