{
 "cells": [
  {
   "cell_type": "code",
   "execution_count": 1,
   "metadata": {},
   "outputs": [],
   "source": [
    "import os\n",
    "import json\n",
    "from shapely.geometry import Polygon\n",
    "from typing import List, Dict"
   ]
  },
  {
   "cell_type": "code",
   "execution_count": 2,
   "metadata": {},
   "outputs": [],
   "source": [
    "def calcular_iou(poligono1: Polygon, poligono2: Polygon) -> float:\n",
    "    interseccion = poligono1.intersection(poligono2).area\n",
    "    union = poligono1.union(poligono2).area\n",
    "    return interseccion / union\n",
    "\n",
    "def nms(shapes: List[Dict], iou_threshold: float = 0.8) -> List[Dict]:\n",
    "    # Convertir puntos a polígonos de Shapely\n",
    "    poligonos = [Polygon(shape['points']) for shape in shapes]\n",
    "    indices_descartados = set()\n",
    "\n",
    "    for i in range(len(poligonos)):\n",
    "        if i in indices_descartados:\n",
    "            continue\n",
    "\n",
    "        for j in range(i + 1, len(poligonos)):\n",
    "            try:\n",
    "                if calcular_iou(poligonos[i], poligonos[j]) > iou_threshold:\n",
    "                    indices_descartados.add(j)\n",
    "            except Exception as e:\n",
    "                pass\n",
    "\n",
    "    # Filtrar las formas que no han sido descartadas\n",
    "    shapes_filtradas = [shape for i, shape in enumerate(shapes) if i not in indices_descartados]\n",
    "    \n",
    "    return shapes_filtradas"
   ]
  },
  {
   "cell_type": "code",
   "execution_count": 3,
   "metadata": {},
   "outputs": [],
   "source": [
    "labels = []\n",
    "images_paths = []\n",
    "labels_dict = {}\n",
    "remove_labels_list = []\n",
    "\n",
    "# labels_dict = {'cow': 'sheep', 'horse': 'sheep', 'bear': 'sheep'}\n",
    "# remove_labels_list = ['zebra', 'bird', 'person', 'boat']\n",
    "\n",
    "# Función para procesar todos los archivos .json en un directorio dado\n",
    "def process_json_files_in_directory(directory, starts_with):\n",
    "  for root, dirs, files in os.walk(directory):\n",
    "    for file in files:\n",
    "      if file.endswith('.json') and file.startswith(starts_with):\n",
    "        file_path = os.path.join(root, file)        \n",
    "        with open(file_path, 'r', encoding='utf-8') as json_file:\n",
    "          data = json.load(json_file)\n",
    "        # Filtrar elementos en 'shapes' y reemplazar etiquetas según sea necesario\n",
    "        # Verificar si 'shapes' está en el archivo JSON\n",
    "        # Eliminar las anotaciones vacías, points = []\n",
    "        if 'shapes' in data:\n",
    "          # Filtrar eliminando los que están en la lista remove_labels_list y tener al menos 4 puntos para calcular área.\n",
    "          data['shapes'] = [shape for shape in data['shapes'] if shape['label'] not in remove_labels_list and len(shape['points']) > 4]\n",
    "          # Descartar los duplicados en una región utilizando non maximum suppression con iou\n",
    "          data['shapes'] = nms(data['shapes'], iou_threshold=0.7)\n",
    "          # Iterar sobre cada elemento en 'shapes'\n",
    "          for shape in data['shapes']:\n",
    "            # Aplicar reemplazo utilizando preprocessing_text\n",
    "            # Reemplaza el valor de la etiqueta según el diccionario labels_dict\n",
    "            # Si label_value no está en labels_dict, devuelve label_value sin cambios\n",
    "            if 'label' in shape:\n",
    "              shape['label'] = labels_dict.get(shape['label'], shape['label'])\n",
    "              \n",
    "            # si no es un labels conocido, imprimir la imagen por la pantalla para decidir si lo convierte o elimina a posteriori.\n",
    "            if shape['label'] not in labels and shape['label'] not in labels_dict.keys():\n",
    "              image_path = data['imagePath']\n",
    "              images_paths.append(image_path)\n",
    "              labels.append(shape['label'])\n",
    "\n",
    "      \n",
    "        # Guardar el contenido modificado de nuevo en el archivo JSON\n",
    "        with open(file_path, 'w', encoding='utf-8') as json_file:\n",
    "          json.dump(data, json_file, ensure_ascii=False, indent=4)"
   ]
  },
  {
   "cell_type": "code",
   "execution_count": 4,
   "metadata": {},
   "outputs": [
    {
     "name": "stdout",
     "output_type": "stream",
     "text": [
      "sheep in path: 2_000000.jpg\n",
      "dog in path: 2_000264.jpg\n"
     ]
    }
   ],
   "source": [
    "directory_path = './Junio/processing'\n",
    "process_json_files_in_directory(directory_path, starts_with='')\n",
    "for label, path in zip(labels, images_paths):\n",
    "  print(f'{label} in path: {path}')"
   ]
  }
 ],
 "metadata": {
  "kernelspec": {
   "display_name": "pre",
   "language": "python",
   "name": "python3"
  },
  "language_info": {
   "codemirror_mode": {
    "name": "ipython",
    "version": 3
   },
   "file_extension": ".py",
   "mimetype": "text/x-python",
   "name": "python",
   "nbconvert_exporter": "python",
   "pygments_lexer": "ipython3",
   "version": "3.11.5"
  }
 },
 "nbformat": 4,
 "nbformat_minor": 2
}
