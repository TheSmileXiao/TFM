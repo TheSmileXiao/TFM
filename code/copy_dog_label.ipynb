{
 "cells": [
  {
   "cell_type": "code",
   "execution_count": 4,
   "metadata": {},
   "outputs": [],
   "source": [
    "import os\n",
    "import json\n",
    "\n",
    "# Copiar la etiqueta única dog al otro json, con el mismo shape polígono \n",
    "def copy_dog_label(original_json, other_json):\n",
    "  aux = None\n",
    "  with open(original_json, 'r', encoding='utf-8') as json_file:\n",
    "    origin_data = json.load(json_file)\n",
    "    if 'shapes' in origin_data:\n",
    "      for shape in origin_data['shapes']:\n",
    "        if 'label' in shape and shape['label'] == 'dog': \n",
    "          aux = shape\n",
    "\n",
    "  if aux:  # Procede solo si se encontró un shape de perro\n",
    "    with open(other_json, 'r+', encoding='utf-8') as json_file:\n",
    "      other_data = json.load(json_file)\n",
    "      if 'shapes' in other_data:\n",
    "        # Verifica si el shape del perro ya existe en other_data['shapes']\n",
    "        if not any(shape for shape in other_data['shapes'] if shape.get('label') == 'dog'):\n",
    "            other_data['shapes'].append(aux)  # Añade aux en lugar de shape\n",
    "            json_file.seek(0)  # Vuelve al inicio del archivo\n",
    "            json.dump(other_data, json_file, ensure_ascii=False, indent=4)\n",
    "            json_file.truncate()  # Elimina cualquier contenido restante\n"
   ]
  },
  {
   "cell_type": "code",
   "execution_count": 19,
   "metadata": {},
   "outputs": [
    {
     "name": "stdout",
     "output_type": "stream",
     "text": [
      "[[248.0, 192.0], [247.0, 193.0], [246.0, 193.0], [246.0, 197.0], [247.0, 198.0], [247.0, 199.0], [248.0, 200.0], [248.0, 202.0], [250.0, 202.0], [251.0, 201.0], [251.0, 193.0], [250.0, 192.0]]\n"
     ]
    }
   ],
   "source": [
    "def remove_dog_label(json_file):\n",
    "\n",
    "  with open(json_file, 'r+', encoding='utf-8') as json_file:\n",
    "    other_data = json.load(json_file)\n",
    "    if 'shapes' in other_data:\n",
    "      shapes = [shape for shape in other_data['shapes'] if shape['label'] != 'dog']\n",
    "      other_data['shapes'] = shapes\n",
    "      \n",
    "      json_file.seek(0)  # Vuelve al inicio del archivo\n",
    "      json.dump(other_data, json_file, ensure_ascii=False, indent=4)\n",
    "      json_file.truncate()  # Elimina cualquier contenido restante"
   ]
  },
  {
   "cell_type": "code",
   "execution_count": 4,
   "metadata": {},
   "outputs": [],
   "source": [
    "idx = 290\n",
    "count = 20"
   ]
  },
  {
   "cell_type": "code",
   "execution_count": 6,
   "metadata": {},
   "outputs": [
    {
     "name": "stdout",
     "output_type": "stream",
     "text": [
      "311\n"
     ]
    }
   ],
   "source": [
    "directory = './Junio/processing'\n",
    "for i in range(idx, idx+count):\n",
    "  this_file = f'5_{i:06d}.json'\n",
    "  next_file = f'5_{i+1:06d}.json'\n",
    "  this_json = os.path.join(directory, this_file)\n",
    "  next_json = os.path.join(directory, next_file)\n",
    "  copy_dog_label(this_json, next_json)\n",
    "idx = idx+count+1\n",
    "print(idx)"
   ]
  },
  {
   "cell_type": "code",
   "execution_count": 103,
   "metadata": {},
   "outputs": [],
   "source": [
    "idx = 503\n",
    "count = 14\n",
    "for i in range(idx, idx+count):\n",
    "  this_file = f'2_{i:06d}.json'\n",
    "  this_json = os.path.join(directory, this_file)\n",
    "  remove_dog_label(this_json)"
   ]
  }
 ],
 "metadata": {
  "kernelspec": {
   "display_name": "pre",
   "language": "python",
   "name": "python3"
  },
  "language_info": {
   "codemirror_mode": {
    "name": "ipython",
    "version": 3
   },
   "file_extension": ".py",
   "mimetype": "text/x-python",
   "name": "python",
   "nbconvert_exporter": "python",
   "pygments_lexer": "ipython3",
   "version": "3.11.5"
  }
 },
 "nbformat": 4,
 "nbformat_minor": 2
}
