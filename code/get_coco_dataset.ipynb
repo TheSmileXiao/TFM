{
 "cells": [
  {
   "cell_type": "code",
   "execution_count": 6,
   "metadata": {},
   "outputs": [
    {
     "name": "stderr",
     "output_type": "stream",
     "text": [
      "c:\\Users\\87989\\anaconda3\\envs\\pre\\lib\\site-packages\\paramiko\\transport.py:219: CryptographyDeprecationWarning: Blowfish has been deprecated and will be removed in a future release\n",
      "  \"class\": algorithms.Blowfish,\n"
     ]
    }
   ],
   "source": [
    "import fiftyone as fo\n",
    "import fiftyone.zoo as foz"
   ]
  },
  {
   "cell_type": "code",
   "execution_count": 7,
   "metadata": {},
   "outputs": [
    {
     "name": "stdout",
     "output_type": "stream",
     "text": [
      "Help on function load_zoo_dataset in module fiftyone.zoo.datasets:\n",
      "\n",
      "load_zoo_dataset(name, split=None, splits=None, label_field=None, dataset_name=None, dataset_dir=None, download_if_necessary=True, drop_existing_dataset=False, persistent=False, overwrite=False, cleanup=True, progress=None, **kwargs)\n",
      "    Loads the dataset of the given name from the FiftyOne Dataset Zoo as\n",
      "    a :class:`fiftyone.core.dataset.Dataset`.\n",
      "    \n",
      "    By default, the dataset will be downloaded if it does not already exist in\n",
      "    the specified directory.\n",
      "    \n",
      "    If you do not specify a custom ``dataset_name`` and you have previously\n",
      "    loaded the same zoo dataset and split(s) into FiftyOne, the existing\n",
      "    :class:`fiftyone.core.dataset.Dataset` will be returned.\n",
      "    \n",
      "    Args:\n",
      "        name: the name of the zoo dataset to load. Call\n",
      "            :func:`list_zoo_datasets` to see the available datasets\n",
      "        split (None) a split to load, if applicable. Typical values are\n",
      "            ``(\"train\", \"validation\", \"test\")``. If neither ``split`` nor\n",
      "            ``splits`` are provided, all available splits are loaded. Consult\n",
      "            the documentation for the :class:`ZooDataset` you specified to see\n",
      "            the supported splits\n",
      "        splits (None): a list of splits to load, if applicable. Typical values\n",
      "            are ``(\"train\", \"validation\", \"test\")``. If neither ``split`` nor\n",
      "            ``splits`` are provided, all available splits are loaded. Consult\n",
      "            the documentation for the :class:`ZooDataset` you specified to see\n",
      "            the supported splits\n",
      "        label_field (None): the label field (or prefix, if the dataset contains\n",
      "            multiple label fields) in which to store the dataset's labels. By\n",
      "            default, this is ``\"ground_truth\"`` if the dataset contains a\n",
      "            single label field. If the dataset contains multiple label fields\n",
      "            and this value is not provided, the labels will be stored under\n",
      "            dataset-specific field names\n",
      "        dataset_name (None): an optional name to give the returned\n",
      "            :class:`fiftyone.core.dataset.Dataset`. By default, a name will be\n",
      "            constructed based on the dataset and split(s) you are loading\n",
      "        dataset_dir (None): the directory in which the dataset is stored or\n",
      "            will be downloaded. By default, the dataset will be located in\n",
      "            ``fiftyone.config.dataset_zoo_dir``\n",
      "        download_if_necessary (True): whether to download the dataset if it is\n",
      "            not found in the specified dataset directory\n",
      "        drop_existing_dataset (False): whether to drop an existing dataset\n",
      "            with the same name if it exists\n",
      "        persistent (False): whether the dataset should persist in the database\n",
      "            after the session terminates\n",
      "        overwrite (False): whether to overwrite any existing files if the\n",
      "            dataset is to be downloaded\n",
      "        cleanup (True): whether to cleanup any temporary files generated during\n",
      "            download\n",
      "        progress (None): whether to render a progress bar (True/False), use the\n",
      "            default value ``fiftyone.config.show_progress_bars`` (None), or a\n",
      "            progress callback function to invoke instead\n",
      "        **kwargs: optional arguments to pass to the\n",
      "            :class:`fiftyone.utils.data.importers.DatasetImporter` constructor.\n",
      "            If ``download_if_necessary == True``, then ``kwargs`` can also\n",
      "            contain arguments for :func:`download_zoo_dataset`\n",
      "    \n",
      "    Returns:\n",
      "        a :class:`fiftyone.core.dataset.Dataset`\n",
      "\n"
     ]
    }
   ],
   "source": [
    "help(foz.load_zoo_dataset)"
   ]
  },
  {
   "cell_type": "code",
   "execution_count": 8,
   "metadata": {},
   "outputs": [
    {
     "name": "stdout",
     "output_type": "stream",
     "text": [
      "Downloading split 'validation' to './validation' if necessary\n",
      "Downloading annotations to './tmp-download\\annotations_trainval2017.zip'\n",
      " 100% |██████|    1.9Gb/1.9Gb [1.8m elapsed, 0s remaining, 17.5Mb/s]      \n",
      "Extracting annotations to 'raw\\instances_val2017.json'\n",
      "Only found 5000 (<10000) samples matching your requirements\n",
      "Downloading 5000 images\n",
      " 100% |████████████████| 5000/5000 [4.4m elapsed, 0s remaining, 20.0 images/s]      \n",
      "Writing annotations to './validation\\labels.json'\n",
      "Dataset info written to './info.json'\n",
      "Loading 'coco-2017' split 'validation'\n",
      " 100% |███████████████| 5000/5000 [1.3m elapsed, 0s remaining, 69.0 samples/s]      \n",
      "Dataset 'coco-2017-validation-10000' created\n"
     ]
    }
   ],
   "source": [
    "dataset = foz.load_zoo_dataset(\n",
    "    \"coco-2017\",\n",
    "    splits=\"validation\",\n",
    "    label_types=[\"segmentations\"],\n",
    "    max_samples=10000,\n",
    "    dataset_dir='./'\n",
    ")"
   ]
  }
 ],
 "metadata": {
  "kernelspec": {
   "display_name": "yl",
   "language": "python",
   "name": "python3"
  },
  "language_info": {
   "codemirror_mode": {
    "name": "ipython",
    "version": 3
   },
   "file_extension": ".py",
   "mimetype": "text/x-python",
   "name": "python",
   "nbconvert_exporter": "python",
   "pygments_lexer": "ipython3",
   "version": "3.10.14"
  }
 },
 "nbformat": 4,
 "nbformat_minor": 2
}
