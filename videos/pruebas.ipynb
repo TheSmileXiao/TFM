{
 "cells": [
  {
   "cell_type": "code",
   "execution_count": 3,
   "metadata": {},
   "outputs": [
    {
     "name": "stdout",
     "output_type": "stream",
     "text": [
      "In Agosto/1-3_6-10_correct have 4638 jpg files， sum : 4638\n",
      "In Agosto/4-5_correct have 1049 jpg files， sum : 5687\n",
      "In Junio/1-3_correct have 1242 jpg files， sum : 6929\n",
      "In Junio/4-5_correct have 1036 jpg files， sum : 7965\n",
      "In Manolo/1,2,4_correct have 8785 jpg files， sum : 16750\n",
      "In Manolo/3_correct have 1726 jpg files， sum : 18476\n",
      "In Otras/otras_correct have 4567 jpg files， sum : 23043\n",
      "In Septiembre/1-3_correct have 1583 jpg files， sum : 24626\n",
      "In Septiembre/4_correct have 481 jpg files， sum : 25107\n",
      "In Septiembre/5_correct have 416 jpg files， sum : 25523\n",
      "In Lobo/3,6,11,13_correct have 23182 jpg files， sum : 48705\n",
      "In Lobo/4,8,9,10,12,14,15_correct have 32119 jpg files， sum : 80824\n",
      "80824 files in total\n"
     ]
    }
   ],
   "source": [
    "import os\n",
    "\n",
    "list_origin_dir = ['Agosto/', 'Junio/', 'Manolo/', 'Otras/', 'Septiembre/', 'Lobo/']\n",
    "endswith = 'jpg'\n",
    "\n",
    "count = 0\n",
    "\n",
    "for i in list_origin_dir:\n",
    "  dirs = [name_dir for name_dir in os.listdir(i) if name_dir.endswith('correct')]\n",
    "  for k in dirs:\n",
    "    rute_complete = os.path.join(i, k)\n",
    "    length = len([datas for datas in os.listdir(rute_complete) if datas.endswith('jpg')])\n",
    "    count += length\n",
    "    print(f'In {rute_complete} have {length} {endswith} files， sum : {count}')\n",
    "\n",
    "print(f'{count} files in total')"
   ]
  },
  {
   "cell_type": "code",
   "execution_count": 2,
   "metadata": {},
   "outputs": [
    {
     "name": "stdout",
     "output_type": "stream",
     "text": [
      "In Agosto/labels have 5687 txt files， sum : 5687\n",
      "In Junio/labels have 2278 txt files， sum : 7965\n",
      "In Manolo/labels have 10511 txt files， sum : 18476\n",
      "In Otras/labels have 4567 txt files， sum : 23043\n",
      "In Septiembre/labels have 2480 txt files， sum : 25523\n",
      "In Lobo/labels have 55301 txt files， sum : 80824\n",
      "80824 files in total\n"
     ]
    }
   ],
   "source": [
    "import os\n",
    "\n",
    "list_origin_dir = ['Agosto/labels', 'Junio/labels', 'Manolo/labels', 'Otras/labels', 'Septiembre/labels', 'Lobo/labels']\n",
    "endswith = 'txt'\n",
    "\n",
    "count = 0\n",
    "\n",
    "for i in list_origin_dir:\n",
    "    length = len([datas for datas in os.listdir(i)])\n",
    "    count += length\n",
    "    print(f'In {i} have {length} {endswith} files， sum : {count}')\n",
    "\n",
    "print(f'{count} files in total')"
   ]
  },
  {
   "cell_type": "code",
   "execution_count": 5,
   "metadata": {},
   "outputs": [
    {
     "name": "stdout",
     "output_type": "stream",
     "text": [
      "In Agosto/1-3_6-10_correct have 4570 json files， sum : 4570\n",
      "In Agosto/4-5_correct have 1049 json files， sum : 5619\n",
      "In Junio/1-3_correct have 1242 json files， sum : 6861\n",
      "In Junio/4-5_correct have 1036 json files， sum : 7897\n",
      "In Manolo/1,2,4_correct have 8785 json files， sum : 16682\n",
      "In Manolo/3_correct have 1726 json files， sum : 18408\n",
      "In Otras/otras_correct have 4399 json files， sum : 22807\n",
      "In Septiembre/1-3_correct have 1583 json files， sum : 24390\n",
      "In Septiembre/4_correct have 481 json files， sum : 24871\n",
      "In Septiembre/5_correct have 399 json files， sum : 25270\n",
      "In Lobo/3,6,11,13_correct have 17238 json files， sum : 42508\n",
      "In Lobo/4,8,9,10,12,14,15_correct have 26655 json files， sum : 69163\n",
      "69163 files in total\n"
     ]
    }
   ],
   "source": [
    "import os\n",
    "\n",
    "list_origin_dir = ['Agosto/', 'Junio/', 'Manolo/', 'Otras/', 'Septiembre/', 'Lobo/']\n",
    "endswith = 'json'\n",
    "\n",
    "count = 0\n",
    "\n",
    "for i in list_origin_dir:\n",
    "  dirs = [name_dir for name_dir in os.listdir(i) if name_dir.endswith('correct')]\n",
    "  for k in dirs:\n",
    "    rute_complete = os.path.join(i, k)\n",
    "    length = len([datas for datas in os.listdir(rute_complete) if datas.endswith('json')])\n",
    "    count += length\n",
    "    print(f'In {rute_complete} have {length} {endswith} files， sum : {count}')\n",
    "\n",
    "print(f'{count} files in total')"
   ]
  },
  {
   "cell_type": "code",
   "execution_count": 4,
   "metadata": {},
   "outputs": [
    {
     "data": {
      "text/plain": [
       "11657"
      ]
     },
     "execution_count": 4,
     "metadata": {},
     "output_type": "execute_result"
    }
   ],
   "source": [
    "80820-69163"
   ]
  },
  {
   "cell_type": "code",
   "execution_count": 14,
   "metadata": {},
   "outputs": [
    {
     "data": {
      "text/plain": [
       "os.stat_result(st_mode=33206, st_ino=562949953877399, st_dev=1412920322, st_nlink=1, st_uid=0, st_gid=0, st_size=957, st_atime=1710209906, st_mtime=1708563495, st_ctime=1710209894)"
      ]
     },
     "execution_count": 14,
     "metadata": {},
     "output_type": "execute_result"
    }
   ],
   "source": [
    "os.stat('Septiembre/prueba/5_000413.txt')"
   ]
  },
  {
   "cell_type": "code",
   "execution_count": 7,
   "metadata": {},
   "outputs": [
    {
     "name": "stdout",
     "output_type": "stream",
     "text": [
      "\tHave 416 jpg files in dataset\n",
      "\tHave 399 json files in dataset\n",
      "\tHave 416 txt files in dataset\n",
      "\tHave total 1231 files in dataset\n"
     ]
    }
   ],
   "source": [
    "import os\n",
    "\n",
    "# Supongamos que tus archivos están en el directorio 'tu_directorio'\n",
    "directorio = 'Septiembre/prueba'\n",
    "\n",
    "jpg_len = len([jpg_datas for jpg_datas in os.listdir(directorio) if jpg_datas.endswith('jpg')])\n",
    "json_len = len([json_datas for json_datas in os.listdir(directorio) if json_datas.endswith('json')])\n",
    "txt_leb = len([txt_datas for txt_datas in os.listdir(directorio) if txt_datas.endswith('txt')])\n",
    "print(f'\\tHave {jpg_len} jpg files in dataset')\n",
    "print(f'\\tHave {json_len} json files in dataset')\n",
    "print(f'\\tHave {txt_leb} txt files in dataset')\n",
    "print(f'\\tHave total {jpg_len + json_len + txt_leb} files in dataset')"
   ]
  }
 ],
 "metadata": {
  "kernelspec": {
   "display_name": "pre",
   "language": "python",
   "name": "python3"
  },
  "language_info": {
   "codemirror_mode": {
    "name": "ipython",
    "version": 3
   },
   "file_extension": ".py",
   "mimetype": "text/x-python",
   "name": "python",
   "nbconvert_exporter": "python",
   "pygments_lexer": "ipython3",
   "version": "3.11.5"
  }
 },
 "nbformat": 4,
 "nbformat_minor": 2
}
