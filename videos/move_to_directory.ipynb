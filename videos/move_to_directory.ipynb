{
  "cells": [
    {
      "cell_type": "markdown",
      "metadata": {
        "id": "wgeKPciMB7kb"
      },
      "source": [
        "# Build Dataset"
      ]
    },
    {
      "cell_type": "markdown",
      "metadata": {
        "id": "cLIr09GIB_bl"
      },
      "source": [
        "## Data:\n",
        "\n",
        "25523 images for sheeps, dog and person"
      ]
    },
    {
      "cell_type": "markdown",
      "metadata": {
        "id": "PZV3IxGH9xIH"
      },
      "source": [
        "## Import ackages and functions"
      ]
    },
    {
      "cell_type": "code",
      "execution_count": 1,
      "metadata": {
        "id": "t4y6Ik1rYwwp"
      },
      "outputs": [],
      "source": [
        "import os\n",
        "import shutil\n",
        "import json\n",
        "from shapely.geometry import Polygon\n",
        "from typing import List, Dict"
      ]
    },
    {
      "cell_type": "code",
      "execution_count": 2,
      "metadata": {
        "id": "ns60bAjmdDpv"
      },
      "outputs": [],
      "source": [
        "def copy_file(o_dir, d_dir, endswith, pref='', replace=True):\n",
        "  # Itera sobre todos los archivos en el directorio de origen\n",
        "  count = 0\n",
        "  for archivo in os.listdir(o_dir):\n",
        "    # Verifica si el archivo termina en 'endswith'\n",
        "    if archivo.endswith(endswith):\n",
        "      # Construye la ruta completa del archivo de origen\n",
        "      ruta_completa_origen = os.path.join(o_dir, archivo)\n",
        "      # Añade el prefijo al nombre del archivo para el destino\n",
        "      if pref != '':\n",
        "        nombre_destino = pref + '_' + archivo\n",
        "      else:\n",
        "        nombre_destino = archivo\n",
        "      # Construye la ruta completa del archivo de destino\n",
        "      ruta_completa_destino = os.path.join(d_dir, nombre_destino)\n",
        "\n",
        "      # Mueve el archivo al directorio de destino con el nuevo nombre\n",
        "      if replace is True or not os.path.exists(ruta_completa_destino):\n",
        "        shutil.copy(ruta_completa_origen, ruta_completa_destino)\n",
        "        count += 1\n",
        "\n",
        "  print(f'Los {count} archivos en {o_dir} han sido procesados.')"
      ]
    },
    {
      "cell_type": "code",
      "execution_count": 3,
      "metadata": {
        "id": "9bO-li3lyBsh"
      },
      "outputs": [],
      "source": [
        "def copy_json_file(o_dir, d_dir, endswith, pref=''):\n",
        "  # Itera sobre todos los archivos en el directorio de origen\n",
        "  if(endswith != 'json'):\n",
        "    print('this function is only use for json files.')\n",
        "  else:\n",
        "    count = 0\n",
        "    for archivo in os.listdir(o_dir):\n",
        "      # Verifica si el archivo termina en 'endswith'\n",
        "      if archivo.endswith(endswith):\n",
        "        count += 1\n",
        "        # Construye la ruta completa del archivo de origen\n",
        "        ruta_completa_origen = os.path.join(o_dir, archivo)\n",
        "        nombre_destino = pref + '_' + archivo\n",
        "\n",
        "        # Construye la ruta completa del archivo de destino\n",
        "        ruta_completa_destino = os.path.join(d_dir, nombre_destino)\n",
        "\n",
        "        # Cambiar el imagePath al correspondiente y guardar en data\n",
        "        with open(ruta_completa_origen, 'r', encoding='utf-8') as json_file:\n",
        "          data = json.load(json_file)\n",
        "          data['imagePath'] = pref + '_' + data['imagePath']\n",
        "\n",
        "        # Escribir\n",
        "        with open(ruta_completa_destino, 'w', encoding='utf-8') as json_file:\n",
        "          json.dump(data, json_file, ensure_ascii=False, indent=4)\n",
        "    print(f'Los {count} archivos en {o_dir} han sido procesados.')"
      ]
    },
    {
      "cell_type": "code",
      "execution_count": 10,
      "metadata": {
        "id": "AAUi55zehx1K"
      },
      "outputs": [],
      "source": [
        "def show_dataset():\n",
        "  count = 0\n",
        "  while count != -1:\n",
        "    try:\n",
        "      jpg_len = len([jpg_datas for jpg_datas in os.listdir('./dataset') if jpg_datas.endswith('jpg')])\n",
        "      json_len = len([json_datas for json_datas in os.listdir('./dataset') if json_datas.endswith('json')])\n",
        "      txt_len = len([txt_datas for txt_datas in os.listdir('./dataset') if txt_datas.endswith('txt')])\n",
        "      count = -1\n",
        "    except Exception as e:\n",
        "      count += 1\n",
        "      print(count, ': ', e)\n",
        "  print(f'\\tHave {jpg_len} jpg files in dataset')\n",
        "  print(f'\\tHave {json_len} json files in dataset')\n",
        "  print(f'\\tHave {txt_len} txt files in dataset')\n",
        "  print(f'\\tHave total {jpg_len + json_len + txt_len} files in dataset')"
      ]
    },
    {
      "cell_type": "markdown",
      "metadata": {
        "id": "SweDyM13o4SB"
      },
      "source": [
        "## Mover las imágenes al dataset"
      ]
    },
    {
      "cell_type": "code",
      "execution_count": 11,
      "metadata": {
        "id": "gQWFpDB7iXyN"
      },
      "outputs": [
        {
          "name": "stdout",
          "output_type": "stream",
          "text": [
            "\tHave 0 jpg files in dataset\n",
            "\tHave 0 json files in dataset\n",
            "\tHave 0 txt files in dataset\n",
            "\tHave total 0 files in dataset\n"
          ]
        }
      ],
      "source": [
        "show_dataset()"
      ]
    },
    {
      "cell_type": "code",
      "execution_count": 12,
      "metadata": {
        "colab": {
          "base_uri": "https://localhost:8080/",
          "height": 496
        },
        "id": "mgAHhfV7iRSO",
        "outputId": "54aca5e9-d5cb-487c-f001-31a45cd01f1c"
      },
      "outputs": [
        {
          "name": "stdout",
          "output_type": "stream",
          "text": [
            "Los 4638 archivos en ./Agosto\\1-3_6-10_correct han sido procesados.\n",
            "Los 1049 archivos en ./Agosto\\4-5_correct han sido procesados.\n",
            "Los 1242 archivos en ./Junio\\1-3_correct han sido procesados.\n",
            "Los 1036 archivos en ./Junio\\4-5_correct han sido procesados.\n",
            "Los 8785 archivos en ./Manolo\\1,2,4_correct han sido procesados.\n",
            "Los 1726 archivos en ./Manolo\\3_correct han sido procesados.\n",
            "Los 4567 archivos en ./Otras\\otras_correct han sido procesados.\n",
            "Los 1583 archivos en ./Septiembre\\1-3_correct han sido procesados.\n",
            "Los 481 archivos en ./Septiembre\\4_correct han sido procesados.\n",
            "Los 416 archivos en ./Septiembre\\5_correct han sido procesados.\n",
            "Los 23182 archivos en ./Lobo\\3,6,11,13_correct han sido procesados.\n",
            "Los 32119 archivos en ./Lobo\\4,8,9,10,12,14,15_correct han sido procesados.\n"
          ]
        }
      ],
      "source": [
        "list_origin_dir = ['./Agosto', './Junio', './Manolo', './Otras', './Septiembre', './Lobo']\n",
        "list_pref = ['Aug', 'Jun', 'Manolo', 'Otras', 'Sep', 'Lobo']\n",
        "destination_dir = './dataset'\n",
        "endswith = 'jpg'\n",
        "\n",
        "for i, j in zip(list_origin_dir, list_pref):\n",
        "  dirs = [name_dir for name_dir in os.listdir(i) if name_dir.endswith('correct')]\n",
        "  for k in dirs:\n",
        "    rute_complete_origin = os.path.join(i, k)\n",
        "    #print(rute_complete_origin, destination_dir, endswith, j)\n",
        "    copy_file(rute_complete_origin, destination_dir, endswith, j, replace = False)\n"
      ]
    },
    {
      "cell_type": "code",
      "execution_count": 13,
      "metadata": {
        "colab": {
          "background_save": true
        },
        "id": "RS_VGVluAdl2",
        "outputId": "6d682e70-712c-4a7d-ea73-3f6886d6820d"
      },
      "outputs": [
        {
          "name": "stdout",
          "output_type": "stream",
          "text": [
            "\tHave 80824 jpg files in dataset\n",
            "\tHave 0 json files in dataset\n",
            "\tHave 0 txt files in dataset\n",
            "\tHave total 80824 files in dataset\n"
          ]
        }
      ],
      "source": [
        "show_dataset()"
      ]
    },
    {
      "cell_type": "markdown",
      "metadata": {
        "id": "o-D9nigXsGu5"
      },
      "source": [
        "## Mover las etiquetas de formato COCO al dataset"
      ]
    },
    {
      "cell_type": "code",
      "execution_count": 14,
      "metadata": {
        "colab": {
          "background_save": true,
          "base_uri": "https://localhost:8080/"
        },
        "id": "b3vrhZOZsMdm",
        "outputId": "96e4cbc4-f5e6-4fc3-abea-e73de79efc0b"
      },
      "outputs": [
        {
          "name": "stdout",
          "output_type": "stream",
          "text": [
            "Los 4570 archivos en ./Agosto\\1-3_6-10_correct han sido procesados.\n",
            "Los 1049 archivos en ./Agosto\\4-5_correct han sido procesados.\n",
            "Los 1242 archivos en ./Junio\\1-3_correct han sido procesados.\n",
            "Los 1036 archivos en ./Junio\\4-5_correct han sido procesados.\n",
            "Los 8785 archivos en ./Manolo\\1,2,4_correct han sido procesados.\n",
            "Los 1726 archivos en ./Manolo\\3_correct han sido procesados.\n",
            "Los 4399 archivos en ./Otras\\otras_correct han sido procesados.\n",
            "Los 1583 archivos en ./Septiembre\\1-3_correct han sido procesados.\n",
            "Los 481 archivos en ./Septiembre\\4_correct han sido procesados.\n",
            "Los 399 archivos en ./Septiembre\\5_correct han sido procesados.\n",
            "Los 17238 archivos en ./Lobo\\3,6,11,13_correct han sido procesados.\n",
            "Los 26655 archivos en ./Lobo\\4,8,9,10,12,14,15_correct han sido procesados.\n"
          ]
        }
      ],
      "source": [
        "list_origin_dir = ['./Agosto', './Junio', './Manolo', './Otras', './Septiembre', './Lobo']\n",
        "list_pref = ['Aug', 'Jun', 'Manolo', 'Otras', 'Sep', 'Lobo']\n",
        "destination_dir = './dataset'\n",
        "endswith = 'json'\n",
        "\n",
        "for i, j in zip(list_origin_dir, list_pref):\n",
        "  dirs = [name_dir for name_dir in os.listdir(i) if name_dir.endswith('correct')]\n",
        "  for k in dirs:\n",
        "    rute_complete_origin = os.path.join(i, k)\n",
        "    #print(rute_complete_origin, destination_dir, endswith, j)\n",
        "    copy_json_file(rute_complete_origin, destination_dir, endswith, j)\n"
      ]
    },
    {
      "cell_type": "code",
      "execution_count": 15,
      "metadata": {},
      "outputs": [
        {
          "name": "stdout",
          "output_type": "stream",
          "text": [
            "\tHave 80824 jpg files in dataset\n",
            "\tHave 69163 json files in dataset\n",
            "\tHave 0 txt files in dataset\n",
            "\tHave total 149987 files in dataset\n"
          ]
        }
      ],
      "source": [
        "show_dataset()"
      ]
    },
    {
      "cell_type": "markdown",
      "metadata": {
        "id": "2D36-DmDo8xn"
      },
      "source": [
        "## Mover las etiquetas de formato Yolo al dataset"
      ]
    },
    {
      "cell_type": "code",
      "execution_count": 23,
      "metadata": {
        "colab": {
          "background_save": true
        },
        "id": "HJ0RdOi4WEwu"
      },
      "outputs": [
        {
          "name": "stdout",
          "output_type": "stream",
          "text": [
            "Los 3735 archivos en ./Agosto/labels han sido procesados.\n",
            "Los 2278 archivos en ./Junio/labels han sido procesados.\n",
            "Los 10511 archivos en ./Manolo/labels han sido procesados.\n",
            "Los 4567 archivos en ./Otras/labels han sido procesados.\n",
            "Los 2480 archivos en ./Septiembre/labels han sido procesados.\n",
            "Los 55301 archivos en ./Lobo/labels han sido procesados.\n"
          ]
        }
      ],
      "source": [
        "list_origin_dir = ['./Agosto/labels', './Junio/labels', './Manolo/labels', './Otras/labels', './Septiembre/labels', './Lobo/labels']\n",
        "destination_dir = './dataset'\n",
        "list_pref = ['Aug', 'Jun', 'Manolo', 'Otras', 'Sep', 'Lobo']\n",
        "endswith = 'txt'\n",
        "\n",
        "for i, j in zip(list_origin_dir, list_pref):\n",
        "  copy_file(i, destination_dir, endswith, j, replace=False)\n"
      ]
    },
    {
      "cell_type": "code",
      "execution_count": 24,
      "metadata": {
        "colab": {
          "base_uri": "https://localhost:8080/"
        },
        "id": "JVHJfl8FcH3-",
        "outputId": "e4f1b625-f03a-41d3-fb85-faca819a3371"
      },
      "outputs": [
        {
          "name": "stdout",
          "output_type": "stream",
          "text": [
            "\tHave 69163 jpg files in dataset\n",
            "\tHave 69163 json files in dataset\n",
            "\tHave 80824 txt files in dataset\n",
            "\tHave total 219150 files in dataset\n"
          ]
        }
      ],
      "source": [
        "show_dataset()"
      ]
    },
    {
      "cell_type": "markdown",
      "metadata": {
        "id": "7LedGCgg2GSc"
      },
      "source": [
        "### 80824 images y txts"
      ]
    },
    {
      "cell_type": "markdown",
      "metadata": {
        "id": "piX3futmWZU5"
      },
      "source": [
        "## Eliminar las imagenes y anotaciones de yolo vacías"
      ]
    },
    {
      "cell_type": "code",
      "execution_count": 25,
      "metadata": {
        "colab": {
          "background_save": true,
          "base_uri": "https://localhost:8080/"
        },
        "id": "8MgIyFI0giWT",
        "outputId": "2e22e08b-0b39-4a03-bb8d-45bb2b7fb881"
      },
      "outputs": [
        {
          "name": "stdout",
          "output_type": "stream",
          "text": [
            "\tHave 69163 jpg files in dataset\n",
            "\tHave 69163 json files in dataset\n",
            "\tHave 80824 txt files in dataset\n",
            "\tHave total 219150 files in dataset\n",
            "13617 txt files were removed\n"
          ]
        }
      ],
      "source": [
        "show_dataset()\n",
        "\n",
        "# Establece el directorio donde se encuentran los archivos .txt y .jpg\n",
        "directorio = './dataset'\n",
        "\n",
        "# Crea una lista de rutas completas de los archivos .txt en el directorio especificado\n",
        "datas_path = [os.path.join(directorio, txt_datas) for txt_datas in os.listdir(directorio) if txt_datas.endswith('txt')]\n",
        "\n",
        "# Inicializa un contador para llevar la cuenta de los archivos eliminados\n",
        "count = 0\n",
        "\n",
        "# Itera sobre cada ruta de archivo .txt en la lista\n",
        "for data_path in datas_path:\n",
        "  # Verifica si el archivo .txt está vacío\n",
        "  if os.stat(data_path).st_size == 0:\n",
        "    # Elimina el archivo .txt\n",
        "    os.remove(data_path)\n",
        "    # Incrementa el contador para cada conjunto de archivos eliminados\n",
        "    count += 1\n",
        "\n",
        "# Imprime el número total de archivos eliminados, detallando tanto los archivos .jpg como los .txt\n",
        "print(f'{count} txt files were removed')\n"
      ]
    },
    {
      "cell_type": "code",
      "execution_count": 26,
      "metadata": {},
      "outputs": [
        {
          "name": "stdout",
          "output_type": "stream",
          "text": [
            "\tHave 69163 jpg files in dataset\n",
            "\tHave 69163 json files in dataset\n",
            "\tHave 67207 txt files in dataset\n",
            "\tHave total 205533 files in dataset\n"
          ]
        }
      ],
      "source": [
        "show_dataset()"
      ]
    },
    {
      "cell_type": "code",
      "execution_count": null,
      "metadata": {},
      "outputs": [],
      "source": [
        "# Establece el directorio\n",
        "directorio = './dataset'\n",
        "\n",
        "# Crea una lista de rutas completas de los archivos jpg\n",
        "datas_path = [os.path.join(directorio, txt_datas) for txt_datas in os.listdir(directorio) if txt_datas.endswith('jpg')]\n",
        "\n",
        "# Inicializa un contador para llevar la cuenta de los archivos eliminados\n",
        "count = 0\n",
        "\n",
        "# Itera sobre cada ruta de archivo en la lista\n",
        "for data_path in datas_path:\n",
        "  # Extrae el nombre base del archivo (sin extensión)\n",
        "  base_name = os.path.splitext(os.path.basename(data_path))[0]\n",
        "  # Crea el nombre del archivo .json correspondiente\n",
        "  json = base_name + '.json'\n",
        "  # Crea la ruta completa del json\n",
        "  json_path = os.path.join(directorio,json)\n",
        "\n",
        "  # Si no existe el archivo json, la imagen no está anotada, se puede eliminar del dataset.\n",
        "  if(not os.path.exists(json_path)):\n",
        "    # Elimina el archivo .jpg\n",
        "    os.remove(data_path)\n",
        "    # Incrementa el contador de los archivos eliminados\n",
        "    count += 1\n",
        "\n",
        "# Imprime el número total de archivos eliminados\n",
        "print(f'{count} jpg files were removed')"
      ]
    },
    {
      "cell_type": "code",
      "execution_count": 28,
      "metadata": {},
      "outputs": [
        {
          "name": "stdout",
          "output_type": "stream",
          "text": [
            "\tHave 69163 jpg files in dataset\n",
            "\tHave 69163 json files in dataset\n",
            "\tHave 67207 txt files in dataset\n",
            "\tHave total 205533 files in dataset\n"
          ]
        }
      ],
      "source": [
        "show_dataset()"
      ]
    }
  ],
  "metadata": {
    "colab": {
      "provenance": []
    },
    "kernelspec": {
      "display_name": "Python 3",
      "name": "python3"
    },
    "language_info": {
      "codemirror_mode": {
        "name": "ipython",
        "version": 3
      },
      "file_extension": ".py",
      "mimetype": "text/x-python",
      "name": "python",
      "nbconvert_exporter": "python",
      "pygments_lexer": "ipython3",
      "version": "3.11.5"
    }
  },
  "nbformat": 4,
  "nbformat_minor": 0
}
