{
 "cells": [
  {
   "cell_type": "code",
   "execution_count": 55,
   "metadata": {},
   "outputs": [],
   "source": [
    "import os\n",
    "import json"
   ]
  },
  {
   "cell_type": "code",
   "execution_count": 56,
   "metadata": {},
   "outputs": [],
   "source": [
    "labels = []\n",
    "images_paths = []\n",
    "labels_dict = {}\n",
    "remove_labels_dict = []\n",
    "\n",
    "# labels_dict = {'zebra': 'sheep'}\n",
    "remove_labels_dict=['bird', 'giraffe', 'person']\n",
    "\n",
    "def preprocessing_text(label_value):\n",
    "    # Reemplaza el valor de la etiqueta según el diccionario labels_dict\n",
    "    # Si label_value no está en labels_dict, devuelve label_value sin cambios\n",
    "    return labels_dict.get(label_value, label_value)\n",
    "\n",
    "# Función para procesar todos los archivos .json en un directorio dado\n",
    "def process_json_files_in_directory(directory):\n",
    "  for root, dirs, files in os.walk(directory):\n",
    "    for file in files:\n",
    "      if file.endswith('.json') and file.startswith(''):\n",
    "        file_path = os.path.join(root, file)        \n",
    "        with open(file_path, 'r', encoding='utf-8') as json_file:\n",
    "          data = json.load(json_file)\n",
    "        # Filtrar elementos en 'shapes' y reemplazar etiquetas según sea necesario\n",
    "        # Verificar si 'shapes' está en el archivo JSON\n",
    "        # Eliminar las anotaciones vacías, points = []\n",
    "        if 'shapes' in data:\n",
    "          data['shapes'] = [shape for shape in data['shapes'] if shape['label'] not in remove_labels_dict and shape['points'] != []]\n",
    "          # Iterar sobre cada elemento en 'shapes'\n",
    "          for shape in data['shapes']:\n",
    "            # si no es un labels conocido, imprimir la imagen por la pantalla para decidir si lo convierte o elimina a posteriori.\n",
    "            if shape['label'] not in labels:\n",
    "              image_path = data['imagePath']\n",
    "              images_paths.append(image_path)\n",
    "              labels.append(shape['label'])\n",
    "            # Aplicar reemplazo utilizando preprocessing_text\n",
    "            if 'label' in shape:\n",
    "              shape['label'] = preprocessing_text(shape['label'])\n",
    "      \n",
    "        # Guardar el contenido modificado de nuevo en el archivo JSON\n",
    "        with open(file_path, 'w', encoding='utf-8') as json_file:\n",
    "          json.dump(data, json_file, ensure_ascii=False, indent=4)"
   ]
  },
  {
   "cell_type": "code",
   "execution_count": 57,
   "metadata": {},
   "outputs": [
    {
     "name": "stdout",
     "output_type": "stream",
     "text": [
      "sheep in path: 5_000000.jpg\n"
     ]
    }
   ],
   "source": [
    "directory_path = './Septiembre/5_yolov8'\n",
    "process_json_files_in_directory(directory_path)\n",
    "for label, path in zip(labels, images_paths):\n",
    "  print(f'{label} in path: {path}')"
   ]
  }
 ],
 "metadata": {
  "kernelspec": {
   "display_name": "pre",
   "language": "python",
   "name": "python3"
  },
  "language_info": {
   "codemirror_mode": {
    "name": "ipython",
    "version": 3
   },
   "file_extension": ".py",
   "mimetype": "text/x-python",
   "name": "python",
   "nbconvert_exporter": "python",
   "pygments_lexer": "ipython3",
   "version": "3.11.5"
  }
 },
 "nbformat": 4,
 "nbformat_minor": 2
}
